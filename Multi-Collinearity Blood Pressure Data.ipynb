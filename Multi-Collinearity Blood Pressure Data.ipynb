{
 "cells": [
  {
   "cell_type": "code",
   "execution_count": 4,
   "metadata": {},
   "outputs": [],
   "source": [
    "import numpy as np\n",
    "import pandas as pd\n",
    "import matplotlib.pyplot as plt\n",
    "import seaborn as sns\n",
    "color = sns.color_palette()\n",
    "\n",
    "from sklearn.linear_model import LinearRegression\n",
    "import statsmodels.formula.api as sm\n",
    "from statsmodels.stats.outliers_influence import variance_inflation_factor\n",
    "from statsmodels.tools.tools import add_constant\n",
    "\n",
    "%matplotlib inline"
   ]
  },
  {
   "cell_type": "code",
   "execution_count": 5,
   "metadata": {},
   "outputs": [],
   "source": [
    "bp_data = pd.read_csv(r\"D:/Desktop/supervised learning/datasets/bloodpress.txt\", sep=\"\\t\", dtype = \"float64\")\n",
    "bp_data.drop('Pt', axis=1, inplace=True)"
   ]
  },
  {
   "cell_type": "code",
   "execution_count": 6,
   "metadata": {},
   "outputs": [
    {
     "data": {
      "text/html": [
       "<div>\n",
       "<style scoped>\n",
       "    .dataframe tbody tr th:only-of-type {\n",
       "        vertical-align: middle;\n",
       "    }\n",
       "\n",
       "    .dataframe tbody tr th {\n",
       "        vertical-align: top;\n",
       "    }\n",
       "\n",
       "    .dataframe thead th {\n",
       "        text-align: right;\n",
       "    }\n",
       "</style>\n",
       "<table border=\"1\" class=\"dataframe\">\n",
       "  <thead>\n",
       "    <tr style=\"text-align: right;\">\n",
       "      <th></th>\n",
       "      <th>BP</th>\n",
       "      <th>Age</th>\n",
       "      <th>Weight</th>\n",
       "      <th>BSA</th>\n",
       "      <th>Dur</th>\n",
       "      <th>Pulse</th>\n",
       "      <th>Stress</th>\n",
       "    </tr>\n",
       "  </thead>\n",
       "  <tbody>\n",
       "    <tr>\n",
       "      <th>0</th>\n",
       "      <td>105.0</td>\n",
       "      <td>47.0</td>\n",
       "      <td>85.4</td>\n",
       "      <td>1.75</td>\n",
       "      <td>5.1</td>\n",
       "      <td>63.0</td>\n",
       "      <td>33.0</td>\n",
       "    </tr>\n",
       "    <tr>\n",
       "      <th>1</th>\n",
       "      <td>115.0</td>\n",
       "      <td>49.0</td>\n",
       "      <td>94.2</td>\n",
       "      <td>2.10</td>\n",
       "      <td>3.8</td>\n",
       "      <td>70.0</td>\n",
       "      <td>14.0</td>\n",
       "    </tr>\n",
       "    <tr>\n",
       "      <th>2</th>\n",
       "      <td>116.0</td>\n",
       "      <td>49.0</td>\n",
       "      <td>95.3</td>\n",
       "      <td>1.98</td>\n",
       "      <td>8.2</td>\n",
       "      <td>72.0</td>\n",
       "      <td>10.0</td>\n",
       "    </tr>\n",
       "    <tr>\n",
       "      <th>3</th>\n",
       "      <td>117.0</td>\n",
       "      <td>50.0</td>\n",
       "      <td>94.7</td>\n",
       "      <td>2.01</td>\n",
       "      <td>5.8</td>\n",
       "      <td>73.0</td>\n",
       "      <td>99.0</td>\n",
       "    </tr>\n",
       "    <tr>\n",
       "      <th>4</th>\n",
       "      <td>112.0</td>\n",
       "      <td>51.0</td>\n",
       "      <td>89.4</td>\n",
       "      <td>1.89</td>\n",
       "      <td>7.0</td>\n",
       "      <td>72.0</td>\n",
       "      <td>95.0</td>\n",
       "    </tr>\n",
       "  </tbody>\n",
       "</table>\n",
       "</div>"
      ],
      "text/plain": [
       "      BP   Age  Weight   BSA  Dur  Pulse  Stress\n",
       "0  105.0  47.0    85.4  1.75  5.1   63.0    33.0\n",
       "1  115.0  49.0    94.2  2.10  3.8   70.0    14.0\n",
       "2  116.0  49.0    95.3  1.98  8.2   72.0    10.0\n",
       "3  117.0  50.0    94.7  2.01  5.8   73.0    99.0\n",
       "4  112.0  51.0    89.4  1.89  7.0   72.0    95.0"
      ]
     },
     "execution_count": 6,
     "metadata": {},
     "output_type": "execute_result"
    }
   ],
   "source": [
    "bp_data.head()"
   ]
  },
  {
   "cell_type": "code",
   "execution_count": 7,
   "metadata": {},
   "outputs": [
    {
     "name": "stdout",
     "output_type": "stream",
     "text": [
      "<class 'pandas.core.frame.DataFrame'>\n",
      "RangeIndex: 20 entries, 0 to 19\n",
      "Data columns (total 7 columns):\n",
      "BP        20 non-null float64\n",
      "Age       20 non-null float64\n",
      "Weight    20 non-null float64\n",
      "BSA       20 non-null float64\n",
      "Dur       20 non-null float64\n",
      "Pulse     20 non-null float64\n",
      "Stress    20 non-null float64\n",
      "dtypes: float64(7)\n",
      "memory usage: 1.2 KB\n"
     ]
    }
   ],
   "source": [
    "bp_data.info()"
   ]
  },
  {
   "cell_type": "code",
   "execution_count": 8,
   "metadata": {},
   "outputs": [
    {
     "data": {
      "image/png": "[encoded data removed]",
      "text/plain": [
       "<Figure size 720x720 with 2 Axes>"
      ]
     },
     "metadata": {
      "needs_background": "light"
     },
     "output_type": "display_data"
    }
   ],
   "source": [
    "correlation = bp_data.corr()\n",
    "\n",
    "mask= np.zeros_like(correlation, dtype= np.bool)\n",
    "mask[np.triu_indices_from(mask)]=True\n",
    "\n",
    "f, ax= plt.subplots(figsize=(10,10))\n",
    "\n",
    "cmap= sns.diverging_palette(220, 10, as_cmap=True)\n",
    "\n",
    "sns.heatmap(correlation, mask=mask, cmap=cmap, vmax=.3, center=0, \n",
    "           square=True, linewidths=0.5, cbar_kws={\"shrink\":0.5}, annot=True)\n",
    "plt.title(\"Correlation among Features\", fontsize =15)\n",
    "plt.show()"
   ]
  },
  {
   "cell_type": "code",
   "execution_count": 9,
   "metadata": {},
   "outputs": [
    {
     "data": {
      "text/plain": [
       "(20, 7)"
      ]
     },
     "execution_count": 9,
     "metadata": {},
     "output_type": "execute_result"
    }
   ],
   "source": [
    "bp_data.shape"
   ]
  },
  {
   "cell_type": "code",
   "execution_count": 11,
   "metadata": {},
   "outputs": [],
   "source": [
    "X=bp_data.iloc[:,:1]\n",
    "Y = bp_data.iloc[:,0]"
   ]
  },
  {
   "cell_type": "code",
   "execution_count": 22,
   "metadata": {},
   "outputs": [],
   "source": [
    "def vif_cal(input_data, dependent_col):\n",
    "    x_var = input_data.drop([dependent_col], axis=1)\n",
    "    xvar_names = x_var.columns\n",
    "    for i in range(0, xvar_names.shape[0]):\n",
    "        y = x_var[xvar_names[i]]\n",
    "        x = x_var[xvar_names.drop(xvar_names[i])]\n",
    "        rsq= sm.ols(formula=\"y~x\", data= x_var).fit().rsquared\n",
    "        vif = round(1/(1-rsq), 2)\n",
    "        print(xvar_names[1], \"VIF: \", vif)"
   ]
  },
  {
   "cell_type": "code",
   "execution_count": 23,
   "metadata": {},
   "outputs": [
    {
     "data": {
      "text/html": [
       "<table class=\"simpletable\">\n",
       "<caption>OLS Regression Results</caption>\n",
       "<tr>\n",
       "  <th>Dep. Variable:</th>           <td>BP</td>        <th>  R-squared:         </th> <td>   0.996</td>\n",
       "</tr>\n",
       "<tr>\n",
       "  <th>Model:</th>                   <td>OLS</td>       <th>  Adj. R-squared:    </th> <td>   0.994</td>\n",
       "</tr>\n",
       "<tr>\n",
       "  <th>Method:</th>             <td>Least Squares</td>  <th>  F-statistic:       </th> <td>   560.6</td>\n",
       "</tr>\n",
       "<tr>\n",
       "  <th>Date:</th>             <td>Sun, 22 Sep 2019</td> <th>  Prob (F-statistic):</th> <td>6.40e-15</td>\n",
       "</tr>\n",
       "<tr>\n",
       "  <th>Time:</th>                 <td>15:00:23</td>     <th>  Log-Likelihood:    </th> <td> -6.1033</td>\n",
       "</tr>\n",
       "<tr>\n",
       "  <th>No. Observations:</th>      <td>    20</td>      <th>  AIC:               </th> <td>   26.21</td>\n",
       "</tr>\n",
       "<tr>\n",
       "  <th>Df Residuals:</th>          <td>    13</td>      <th>  BIC:               </th> <td>   33.18</td>\n",
       "</tr>\n",
       "<tr>\n",
       "  <th>Df Model:</th>              <td>     6</td>      <th>                     </th>     <td> </td>   \n",
       "</tr>\n",
       "<tr>\n",
       "  <th>Covariance Type:</th>      <td>nonrobust</td>    <th>                     </th>     <td> </td>   \n",
       "</tr>\n",
       "</table>\n",
       "<table class=\"simpletable\">\n",
       "<tr>\n",
       "      <td></td>         <th>coef</th>     <th>std err</th>      <th>t</th>      <th>P>|t|</th>  <th>[0.025</th>    <th>0.975]</th>  \n",
       "</tr>\n",
       "<tr>\n",
       "  <th>Intercept</th> <td>  -12.8705</td> <td>    2.557</td> <td>   -5.034</td> <td> 0.000</td> <td>  -18.394</td> <td>   -7.347</td>\n",
       "</tr>\n",
       "<tr>\n",
       "  <th>Age</th>       <td>    0.7033</td> <td>    0.050</td> <td>   14.177</td> <td> 0.000</td> <td>    0.596</td> <td>    0.810</td>\n",
       "</tr>\n",
       "<tr>\n",
       "  <th>Weight</th>    <td>    0.9699</td> <td>    0.063</td> <td>   15.369</td> <td> 0.000</td> <td>    0.834</td> <td>    1.106</td>\n",
       "</tr>\n",
       "<tr>\n",
       "  <th>BSA</th>       <td>    3.7765</td> <td>    1.580</td> <td>    2.390</td> <td> 0.033</td> <td>    0.363</td> <td>    7.190</td>\n",
       "</tr>\n",
       "<tr>\n",
       "  <th>Dur</th>       <td>    0.0684</td> <td>    0.048</td> <td>    1.412</td> <td> 0.182</td> <td>   -0.036</td> <td>    0.173</td>\n",
       "</tr>\n",
       "<tr>\n",
       "  <th>Pulse</th>     <td>   -0.0845</td> <td>    0.052</td> <td>   -1.637</td> <td> 0.126</td> <td>   -0.196</td> <td>    0.027</td>\n",
       "</tr>\n",
       "<tr>\n",
       "  <th>Stress</th>    <td>    0.0056</td> <td>    0.003</td> <td>    1.633</td> <td> 0.126</td> <td>   -0.002</td> <td>    0.013</td>\n",
       "</tr>\n",
       "</table>\n",
       "<table class=\"simpletable\">\n",
       "<tr>\n",
       "  <th>Omnibus:</th>       <td> 7.219</td> <th>  Durbin-Watson:     </th> <td>   2.249</td>\n",
       "</tr>\n",
       "<tr>\n",
       "  <th>Prob(Omnibus):</th> <td> 0.027</td> <th>  Jarque-Bera (JB):  </th> <td>   4.643</td>\n",
       "</tr>\n",
       "<tr>\n",
       "  <th>Skew:</th>          <td>-1.050</td> <th>  Prob(JB):          </th> <td>  0.0981</td>\n",
       "</tr>\n",
       "<tr>\n",
       "  <th>Kurtosis:</th>      <td> 4.076</td> <th>  Cond. No.          </th> <td>4.02e+03</td>\n",
       "</tr>\n",
       "</table><br/><br/>Warnings:<br/>[1] Standard Errors assume that the covariance matrix of the errors is correctly specified.<br/>[2] The condition number is large, 4.02e+03. This might indicate that there are<br/>strong multicollinearity or other numerical problems."
      ],
      "text/plain": [
       "<class 'statsmodels.iolib.summary.Summary'>\n",
       "\"\"\"\n",
       "                            OLS Regression Results                            \n",
       "==============================================================================\n",
       "Dep. Variable:                     BP   R-squared:                       0.996\n",
       "Model:                            OLS   Adj. R-squared:                  0.994\n",
       "Method:                 Least Squares   F-statistic:                     560.6\n",
       "Date:                Sun, 22 Sep 2019   Prob (F-statistic):           6.40e-15\n",
       "Time:                        15:00:23   Log-Likelihood:                -6.1033\n",
       "No. Observations:                  20   AIC:                             26.21\n",
       "Df Residuals:                      13   BIC:                             33.18\n",
       "Df Model:                           6                                         \n",
       "Covariance Type:            nonrobust                                         \n",
       "==============================================================================\n",
       "                 coef    std err          t      P>|t|      [0.025      0.975]\n",
       "------------------------------------------------------------------------------\n",
       "Intercept    -12.8705      2.557     -5.034      0.000     -18.394      -7.347\n",
       "Age            0.7033      0.050     14.177      0.000       0.596       0.810\n",
       "Weight         0.9699      0.063     15.369      0.000       0.834       1.106\n",
       "BSA            3.7765      1.580      2.390      0.033       0.363       7.190\n",
       "Dur            0.0684      0.048      1.412      0.182      -0.036       0.173\n",
       "Pulse         -0.0845      0.052     -1.637      0.126      -0.196       0.027\n",
       "Stress         0.0056      0.003      1.633      0.126      -0.002       0.013\n",
       "==============================================================================\n",
       "Omnibus:                        7.219   Durbin-Watson:                   2.249\n",
       "Prob(Omnibus):                  0.027   Jarque-Bera (JB):                4.643\n",
       "Skew:                          -1.050   Prob(JB):                       0.0981\n",
       "Kurtosis:                       4.076   Cond. No.                     4.02e+03\n",
       "==============================================================================\n",
       "\n",
       "Warnings:\n",
       "[1] Standard Errors assume that the covariance matrix of the errors is correctly specified.\n",
       "[2] The condition number is large, 4.02e+03. This might indicate that there are\n",
       "strong multicollinearity or other numerical problems.\n",
       "\"\"\""
      ]
     },
     "execution_count": 23,
     "metadata": {},
     "output_type": "execute_result"
    }
   ],
   "source": [
    "lr1 = LinearRegression()\n",
    "lr1.fit(bp_data[[\"Age\"]+ [\"Weight\"]+ [\"BSA\"]+ [\"Dur\"]+ [\"Pulse\"]+[\"Stress\"]], bp_data[[\"BP\"]])\n",
    "predictions1 = lr1.predict(bp_data[[\"Age\"]+ [\"Weight\"]+ [\"BSA\"]+ [\"Dur\"]+ [\"Pulse\"]+[\"Stress\"]])\n",
    "model1 = sm.ols(formula= \"BP ~ Age+Weight+BSA+Dur+Pulse+Stress\", data= bp_data)\n",
    "fitted1 = model1.fit()\n",
    "fitted1.summary()"
   ]
  },
  {
   "cell_type": "code",
   "execution_count": 24,
   "metadata": {},
   "outputs": [
    {
     "name": "stdout",
     "output_type": "stream",
     "text": [
      "Weight VIF:  1.76\n",
      "Weight VIF:  8.42\n",
      "Weight VIF:  5.33\n",
      "Weight VIF:  1.24\n",
      "Weight VIF:  4.41\n",
      "Weight VIF:  1.83\n"
     ]
    }
   ],
   "source": [
    "vif_cal(bp_data, dependent_col= \"BP\")"
   ]
  },
  {
   "cell_type": "code",
   "execution_count": 25,
   "metadata": {},
   "outputs": [
    {
     "name": "stdout",
     "output_type": "stream",
     "text": [
      "Weight VIF:  1.47\n",
      "Weight VIF:  1.23\n",
      "Weight VIF:  1.2\n",
      "Weight VIF:  1.24\n"
     ]
    }
   ],
   "source": [
    "vif_cal(bp_data.drop(['BSA', 'Pulse'], axis=1), dependent_col= \"BP\")"
   ]
  },
  {
   "cell_type": "code",
   "execution_count": 26,
   "metadata": {},
   "outputs": [
    {
     "data": {
      "text/html": [
       "<table class=\"simpletable\">\n",
       "<caption>OLS Regression Results</caption>\n",
       "<tr>\n",
       "  <th>Dep. Variable:</th>           <td>BP</td>        <th>  R-squared:         </th> <td>   0.996</td>\n",
       "</tr>\n",
       "<tr>\n",
       "  <th>Model:</th>                   <td>OLS</td>       <th>  Adj. R-squared:    </th> <td>   0.994</td>\n",
       "</tr>\n",
       "<tr>\n",
       "  <th>Method:</th>             <td>Least Squares</td>  <th>  F-statistic:       </th> <td>   560.6</td>\n",
       "</tr>\n",
       "<tr>\n",
       "  <th>Date:</th>             <td>Sun, 22 Sep 2019</td> <th>  Prob (F-statistic):</th> <td>6.40e-15</td>\n",
       "</tr>\n",
       "<tr>\n",
       "  <th>Time:</th>                 <td>15:04:44</td>     <th>  Log-Likelihood:    </th> <td> -6.1033</td>\n",
       "</tr>\n",
       "<tr>\n",
       "  <th>No. Observations:</th>      <td>    20</td>      <th>  AIC:               </th> <td>   26.21</td>\n",
       "</tr>\n",
       "<tr>\n",
       "  <th>Df Residuals:</th>          <td>    13</td>      <th>  BIC:               </th> <td>   33.18</td>\n",
       "</tr>\n",
       "<tr>\n",
       "  <th>Df Model:</th>              <td>     6</td>      <th>                     </th>     <td> </td>   \n",
       "</tr>\n",
       "<tr>\n",
       "  <th>Covariance Type:</th>      <td>nonrobust</td>    <th>                     </th>     <td> </td>   \n",
       "</tr>\n",
       "</table>\n",
       "<table class=\"simpletable\">\n",
       "<tr>\n",
       "      <td></td>         <th>coef</th>     <th>std err</th>      <th>t</th>      <th>P>|t|</th>  <th>[0.025</th>    <th>0.975]</th>  \n",
       "</tr>\n",
       "<tr>\n",
       "  <th>Intercept</th> <td>  -12.8705</td> <td>    2.557</td> <td>   -5.034</td> <td> 0.000</td> <td>  -18.394</td> <td>   -7.347</td>\n",
       "</tr>\n",
       "<tr>\n",
       "  <th>Age</th>       <td>    0.7033</td> <td>    0.050</td> <td>   14.177</td> <td> 0.000</td> <td>    0.596</td> <td>    0.810</td>\n",
       "</tr>\n",
       "<tr>\n",
       "  <th>Weight</th>    <td>    0.9699</td> <td>    0.063</td> <td>   15.369</td> <td> 0.000</td> <td>    0.834</td> <td>    1.106</td>\n",
       "</tr>\n",
       "<tr>\n",
       "  <th>BSA</th>       <td>    3.7765</td> <td>    1.580</td> <td>    2.390</td> <td> 0.033</td> <td>    0.363</td> <td>    7.190</td>\n",
       "</tr>\n",
       "<tr>\n",
       "  <th>Dur</th>       <td>    0.0684</td> <td>    0.048</td> <td>    1.412</td> <td> 0.182</td> <td>   -0.036</td> <td>    0.173</td>\n",
       "</tr>\n",
       "<tr>\n",
       "  <th>Pulse</th>     <td>   -0.0845</td> <td>    0.052</td> <td>   -1.637</td> <td> 0.126</td> <td>   -0.196</td> <td>    0.027</td>\n",
       "</tr>\n",
       "<tr>\n",
       "  <th>Stress</th>    <td>    0.0056</td> <td>    0.003</td> <td>    1.633</td> <td> 0.126</td> <td>   -0.002</td> <td>    0.013</td>\n",
       "</tr>\n",
       "</table>\n",
       "<table class=\"simpletable\">\n",
       "<tr>\n",
       "  <th>Omnibus:</th>       <td> 7.219</td> <th>  Durbin-Watson:     </th> <td>   2.249</td>\n",
       "</tr>\n",
       "<tr>\n",
       "  <th>Prob(Omnibus):</th> <td> 0.027</td> <th>  Jarque-Bera (JB):  </th> <td>   4.643</td>\n",
       "</tr>\n",
       "<tr>\n",
       "  <th>Skew:</th>          <td>-1.050</td> <th>  Prob(JB):          </th> <td>  0.0981</td>\n",
       "</tr>\n",
       "<tr>\n",
       "  <th>Kurtosis:</th>      <td> 4.076</td> <th>  Cond. No.          </th> <td>4.02e+03</td>\n",
       "</tr>\n",
       "</table><br/><br/>Warnings:<br/>[1] Standard Errors assume that the covariance matrix of the errors is correctly specified.<br/>[2] The condition number is large, 4.02e+03. This might indicate that there are<br/>strong multicollinearity or other numerical problems."
      ],
      "text/plain": [
       "<class 'statsmodels.iolib.summary.Summary'>\n",
       "\"\"\"\n",
       "                            OLS Regression Results                            \n",
       "==============================================================================\n",
       "Dep. Variable:                     BP   R-squared:                       0.996\n",
       "Model:                            OLS   Adj. R-squared:                  0.994\n",
       "Method:                 Least Squares   F-statistic:                     560.6\n",
       "Date:                Sun, 22 Sep 2019   Prob (F-statistic):           6.40e-15\n",
       "Time:                        15:04:44   Log-Likelihood:                -6.1033\n",
       "No. Observations:                  20   AIC:                             26.21\n",
       "Df Residuals:                      13   BIC:                             33.18\n",
       "Df Model:                           6                                         \n",
       "Covariance Type:            nonrobust                                         \n",
       "==============================================================================\n",
       "                 coef    std err          t      P>|t|      [0.025      0.975]\n",
       "------------------------------------------------------------------------------\n",
       "Intercept    -12.8705      2.557     -5.034      0.000     -18.394      -7.347\n",
       "Age            0.7033      0.050     14.177      0.000       0.596       0.810\n",
       "Weight         0.9699      0.063     15.369      0.000       0.834       1.106\n",
       "BSA            3.7765      1.580      2.390      0.033       0.363       7.190\n",
       "Dur            0.0684      0.048      1.412      0.182      -0.036       0.173\n",
       "Pulse         -0.0845      0.052     -1.637      0.126      -0.196       0.027\n",
       "Stress         0.0056      0.003      1.633      0.126      -0.002       0.013\n",
       "==============================================================================\n",
       "Omnibus:                        7.219   Durbin-Watson:                   2.249\n",
       "Prob(Omnibus):                  0.027   Jarque-Bera (JB):                4.643\n",
       "Skew:                          -1.050   Prob(JB):                       0.0981\n",
       "Kurtosis:                       4.076   Cond. No.                     4.02e+03\n",
       "==============================================================================\n",
       "\n",
       "Warnings:\n",
       "[1] Standard Errors assume that the covariance matrix of the errors is correctly specified.\n",
       "[2] The condition number is large, 4.02e+03. This might indicate that there are\n",
       "strong multicollinearity or other numerical problems.\n",
       "\"\"\""
      ]
     },
     "execution_count": 26,
     "metadata": {},
     "output_type": "execute_result"
    }
   ],
   "source": [
    "lr2 = LinearRegression()\n",
    "lr2.fit(bp_data[[\"Age\"]+ [\"Weight\"]+ [\"Dur\"]+ [\"Stress\"]], bp_data[[\"BP\"]])\n",
    "predictions2 = lr2.predict(bp_data[[\"Age\"]+ [\"Weight\"]+ [\"Dur\"]+[\"Stress\"]])\n",
    "model2 = sm.ols(formula= \"BP ~ Age+Weight+BSA+Dur+Pulse+Stress\", data= bp_data)\n",
    "fitted2 = model2.fit()\n",
    "fitted2.summary()"
   ]
  },
  {
   "cell_type": "code",
   "execution_count": 27,
   "metadata": {},
   "outputs": [
    {
     "name": "stderr",
     "output_type": "stream",
     "text": [
      "C:\\Users\\bhave\\Anaconda3\\lib\\site-packages\\scipy\\stats\\stats.py:1713: FutureWarning: Using a non-tuple sequence for multidimensional indexing is deprecated; use `arr[tuple(seq)]` instead of `arr[seq]`. In the future this will be interpreted as an array index, `arr[np.array(seq)]`, which will result either in an error or a different result.\n",
      "  return np.add.reduce(sorted[indexer] * weights, axis=axis) / sumval\n"
     ]
    },
    {
     "data": {
      "text/plain": [
       "<matplotlib.axes._subplots.AxesSubplot at 0x162f90f8208>"
      ]
     },
     "execution_count": 27,
     "metadata": {},
     "output_type": "execute_result"
    },
    {
     "data": {
      "image/png": "[encoded data removed]",
      "text/plain": [
       "<Figure size 432x288 with 1 Axes>"
      ]
     },
     "metadata": {
      "needs_background": "light"
     },
     "output_type": "display_data"
    }
   ],
   "source": [
    "sns.regplot(x= \"BP\", y= \"Age\", data = bp_data)"
   ]
  },
  {
   "cell_type": "code",
   "execution_count": 28,
   "metadata": {},
   "outputs": [
    {
     "data": {
      "text/plain": [
       "<matplotlib.axes._subplots.AxesSubplot at 0x162f8bd17b8>"
      ]
     },
     "execution_count": 28,
     "metadata": {},
     "output_type": "execute_result"
    },
    {
     "data": {
      "image/png": "[encoded data removed]",
      "text/plain": [
       "<Figure size 432x288 with 1 Axes>"
      ]
     },
     "metadata": {
      "needs_background": "light"
     },
     "output_type": "display_data"
    }
   ],
   "source": [
    "sns.regplot(x= \"BP\", y= \"Weight\", data = bp_data, color= 'r')"
   ]
  },
  {
   "cell_type": "code",
   "execution_count": 29,
   "metadata": {},
   "outputs": [
    {
     "data": {
      "text/plain": [
       "<matplotlib.axes._subplots.AxesSubplot at 0x162f90a7da0>"
      ]
     },
     "execution_count": 29,
     "metadata": {},
     "output_type": "execute_result"
    },
    {
     "data": {
      "image/png": "[encoded data removed]",
      "text/plain": [
       "<Figure size 432x288 with 1 Axes>"
      ]
     },
     "metadata": {
      "needs_background": "light"
     },
     "output_type": "display_data"
    }
   ],
   "source": [
    "sns.regplot(x= \"BP\", y= \"Dur\", data = bp_data, color= 'g')"
   ]
  },
  {
   "cell_type": "code",
   "execution_count": null,
   "metadata": {},
   "outputs": [],
   "source": []
  }
 ],
 "metadata": {
  "kernelspec": {
   "display_name": "Python 3",
   "language": "python",
   "name": "python3"
  },
  "language_info": {
   "codemirror_mode": {
    "name": "ipython",
    "version": 3
   },
   "file_extension": ".py",
   "mimetype": "text/x-python",
   "name": "python",
   "nbconvert_exporter": "python",
   "pygments_lexer": "ipython3",
   "version": "3.6.8"
  }
 },
 "nbformat": 4,
 "nbformat_minor": 2
}
